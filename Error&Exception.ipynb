{
 "cells": [
  {
   "cell_type": "markdown",
   "metadata": {},
   "source": [
    "#### Error And Exception Handling "
   ]
  },
  {
   "cell_type": "code",
   "execution_count": 2,
   "metadata": {},
   "outputs": [
    {
     "name": "stdout",
     "output_type": "stream",
     "text": [
      "Got Type Error \n"
     ]
    }
   ],
   "source": [
    "# Ex1 \n",
    "try :\n",
    "    for i in ['a','b','c']:\n",
    "       print(i**2)\n",
    "except TypeError :\n",
    "     print(\"Got Type Error \")\n",
    "        "
   ]
  },
  {
   "cell_type": "code",
   "execution_count": null,
   "metadata": {},
   "outputs": [],
   "source": []
  },
  {
   "cell_type": "code",
   "execution_count": 5,
   "metadata": {},
   "outputs": [
    {
     "name": "stdout",
     "output_type": "stream",
     "text": [
      "error : divide by zero\n",
      "do not divide by zero\n"
     ]
    }
   ],
   "source": [
    "# Ex2\n",
    "x = 5\n",
    "y = 0\n",
    "try :\n",
    "    z = x/y\n",
    "except ZeroDivisionError:\n",
    "    print(\"error : divide by zero\")\n",
    "    \n",
    "finally :\n",
    "    print(\"do not divide by zero\")"
   ]
  },
  {
   "cell_type": "code",
   "execution_count": null,
   "metadata": {},
   "outputs": [],
   "source": []
  },
  {
   "cell_type": "code",
   "execution_count": 8,
   "metadata": {},
   "outputs": [
    {
     "name": "stdout",
     "output_type": "stream",
     "text": [
      "enter a number3\n",
      "square of num : 9\n"
     ]
    }
   ],
   "source": [
    "# Ex3\n",
    "\n",
    "def ask():\n",
    "    flag= True\n",
    "    while flag:\n",
    "        try :\n",
    "            x= int(input(\"enter a number\"))\n",
    "        except :\n",
    "            print(\"Please try again \")\n",
    "            continue\n",
    "        else :\n",
    "            print(f\"square of num : {x**2}\")\n",
    "            break\n",
    "\n",
    "ask()\n",
    "        \n",
    "    "
   ]
  },
  {
   "cell_type": "code",
   "execution_count": null,
   "metadata": {},
   "outputs": [],
   "source": []
  }
 ],
 "metadata": {
  "kernelspec": {
   "display_name": "Python 3",
   "language": "python",
   "name": "python3"
  },
  "language_info": {
   "codemirror_mode": {
    "name": "ipython",
    "version": 3
   },
   "file_extension": ".py",
   "mimetype": "text/x-python",
   "name": "python",
   "nbconvert_exporter": "python",
   "pygments_lexer": "ipython3",
   "version": "3.7.6"
  }
 },
 "nbformat": 4,
 "nbformat_minor": 4
}
