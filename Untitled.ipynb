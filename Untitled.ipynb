{
 "cells": [
  {
   "cell_type": "markdown",
   "metadata": {},
   "source": [
    "## Generators\n"
   ]
  },
  {
   "cell_type": "code",
   "execution_count": 7,
   "metadata": {},
   "outputs": [],
   "source": [
    "\n",
    "# Generator function for the cube of numbers (power of 3)\n",
    "def gencubes(n):\n",
    "    print(\"test 1:  \",n)\n",
    "    for num in range(n):\n",
    "        print(\"test :  \",num)\n",
    "        yield num**3"
   ]
  },
  {
   "cell_type": "code",
   "execution_count": 8,
   "metadata": {},
   "outputs": [
    {
     "name": "stdout",
     "output_type": "stream",
     "text": [
      "test 1:   10\n",
      "test :   0\n",
      "test2\n",
      "0\n",
      "test :   1\n",
      "test2\n",
      "1\n",
      "test :   2\n",
      "test2\n",
      "8\n",
      "test :   3\n",
      "test2\n",
      "27\n",
      "test :   4\n",
      "test2\n",
      "64\n",
      "test :   5\n",
      "test2\n",
      "125\n",
      "test :   6\n",
      "test2\n",
      "216\n",
      "test :   7\n",
      "test2\n",
      "343\n",
      "test :   8\n",
      "test2\n",
      "512\n",
      "test :   9\n",
      "test2\n",
      "729\n"
     ]
    }
   ],
   "source": [
    "\n",
    "for x in gencubes(10):\n",
    "    print(\"test2\")\n",
    "    print(x)"
   ]
  },
  {
   "cell_type": "code",
   "execution_count": null,
   "metadata": {},
   "outputs": [],
   "source": []
  }
 ],
 "metadata": {
  "kernelspec": {
   "display_name": "Python 3",
   "language": "python",
   "name": "python3"
  },
  "language_info": {
   "codemirror_mode": {
    "name": "ipython",
    "version": 3
   },
   "file_extension": ".py",
   "mimetype": "text/x-python",
   "name": "python",
   "nbconvert_exporter": "python",
   "pygments_lexer": "ipython3",
   "version": "3.7.6"
  }
 },
 "nbformat": 4,
 "nbformat_minor": 4
}
